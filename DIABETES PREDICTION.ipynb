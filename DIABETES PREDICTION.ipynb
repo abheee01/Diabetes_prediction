{
 "cells": [
  {
   "cell_type": "code",
   "execution_count": 58,
   "metadata": {},
   "outputs": [],
   "source": [
    "%matplotlib inline\n",
    "import pandas as pd\n",
    "import numpy as np\n",
    "import matplotlib.pyplot as plt\n",
    "import seaborn as sns\n",
    "from sklearn.utils import shuffle\n",
    "import pickle"
   ]
  },
  {
   "cell_type": "code",
   "execution_count": 29,
   "metadata": {},
   "outputs": [],
   "source": [
    "diabetes=pd.read_csv(\"diabetes.csv\")"
   ]
  },
  {
   "cell_type": "code",
   "execution_count": 30,
   "metadata": {},
   "outputs": [
    {
     "name": "stdout",
     "output_type": "stream",
     "text": [
      "<class 'pandas.core.frame.DataFrame'>\n",
      "RangeIndex: 768 entries, 0 to 767\n",
      "Data columns (total 9 columns):\n",
      " #   Column                    Non-Null Count  Dtype  \n",
      "---  ------                    --------------  -----  \n",
      " 0   Pregnancies               768 non-null    int64  \n",
      " 1   Glucose                   768 non-null    int64  \n",
      " 2   BloodPressure             768 non-null    float64\n",
      " 3   SkinThickness             768 non-null    int64  \n",
      " 4   Insulin                   768 non-null    float64\n",
      " 5   BMI                       768 non-null    float64\n",
      " 6   DiabetesPedigreeFunction  768 non-null    float64\n",
      " 7   Age                       768 non-null    int64  \n",
      " 8   Outcome                   768 non-null    int64  \n",
      "dtypes: float64(4), int64(5)\n",
      "memory usage: 54.1 KB\n"
     ]
    }
   ],
   "source": [
    "diabetes.info()"
   ]
  },
  {
   "cell_type": "code",
   "execution_count": 31,
   "metadata": {},
   "outputs": [
    {
     "data": {
      "text/html": [
       "<div>\n",
       "<style scoped>\n",
       "    .dataframe tbody tr th:only-of-type {\n",
       "        vertical-align: middle;\n",
       "    }\n",
       "\n",
       "    .dataframe tbody tr th {\n",
       "        vertical-align: top;\n",
       "    }\n",
       "\n",
       "    .dataframe thead th {\n",
       "        text-align: right;\n",
       "    }\n",
       "</style>\n",
       "<table border=\"1\" class=\"dataframe\">\n",
       "  <thead>\n",
       "    <tr style=\"text-align: right;\">\n",
       "      <th></th>\n",
       "      <th>Pregnancies</th>\n",
       "      <th>Glucose</th>\n",
       "      <th>BloodPressure</th>\n",
       "      <th>SkinThickness</th>\n",
       "      <th>Insulin</th>\n",
       "      <th>BMI</th>\n",
       "      <th>DiabetesPedigreeFunction</th>\n",
       "      <th>Age</th>\n",
       "      <th>Outcome</th>\n",
       "    </tr>\n",
       "  </thead>\n",
       "  <tbody>\n",
       "    <tr>\n",
       "      <th>count</th>\n",
       "      <td>768.000000</td>\n",
       "      <td>768.000000</td>\n",
       "      <td>768.000000</td>\n",
       "      <td>768.000000</td>\n",
       "      <td>768.000000</td>\n",
       "      <td>768.000000</td>\n",
       "      <td>768.000000</td>\n",
       "      <td>768.000000</td>\n",
       "      <td>768.000000</td>\n",
       "    </tr>\n",
       "    <tr>\n",
       "      <th>mean</th>\n",
       "      <td>3.845052</td>\n",
       "      <td>121.677083</td>\n",
       "      <td>72.389323</td>\n",
       "      <td>29.089844</td>\n",
       "      <td>141.753906</td>\n",
       "      <td>32.434635</td>\n",
       "      <td>0.471876</td>\n",
       "      <td>33.240885</td>\n",
       "      <td>0.348958</td>\n",
       "    </tr>\n",
       "    <tr>\n",
       "      <th>std</th>\n",
       "      <td>3.369578</td>\n",
       "      <td>30.464161</td>\n",
       "      <td>12.106039</td>\n",
       "      <td>8.890820</td>\n",
       "      <td>89.100847</td>\n",
       "      <td>6.880498</td>\n",
       "      <td>0.331329</td>\n",
       "      <td>11.760232</td>\n",
       "      <td>0.476951</td>\n",
       "    </tr>\n",
       "    <tr>\n",
       "      <th>min</th>\n",
       "      <td>0.000000</td>\n",
       "      <td>44.000000</td>\n",
       "      <td>24.000000</td>\n",
       "      <td>7.000000</td>\n",
       "      <td>14.000000</td>\n",
       "      <td>18.200000</td>\n",
       "      <td>0.078000</td>\n",
       "      <td>21.000000</td>\n",
       "      <td>0.000000</td>\n",
       "    </tr>\n",
       "    <tr>\n",
       "      <th>25%</th>\n",
       "      <td>1.000000</td>\n",
       "      <td>99.750000</td>\n",
       "      <td>64.000000</td>\n",
       "      <td>25.000000</td>\n",
       "      <td>102.500000</td>\n",
       "      <td>27.500000</td>\n",
       "      <td>0.243750</td>\n",
       "      <td>24.000000</td>\n",
       "      <td>0.000000</td>\n",
       "    </tr>\n",
       "    <tr>\n",
       "      <th>50%</th>\n",
       "      <td>3.000000</td>\n",
       "      <td>117.000000</td>\n",
       "      <td>72.000000</td>\n",
       "      <td>28.000000</td>\n",
       "      <td>102.500000</td>\n",
       "      <td>32.050000</td>\n",
       "      <td>0.372500</td>\n",
       "      <td>29.000000</td>\n",
       "      <td>0.000000</td>\n",
       "    </tr>\n",
       "    <tr>\n",
       "      <th>75%</th>\n",
       "      <td>6.000000</td>\n",
       "      <td>140.250000</td>\n",
       "      <td>80.000000</td>\n",
       "      <td>32.000000</td>\n",
       "      <td>169.500000</td>\n",
       "      <td>36.600000</td>\n",
       "      <td>0.626250</td>\n",
       "      <td>41.000000</td>\n",
       "      <td>1.000000</td>\n",
       "    </tr>\n",
       "    <tr>\n",
       "      <th>max</th>\n",
       "      <td>17.000000</td>\n",
       "      <td>199.000000</td>\n",
       "      <td>122.000000</td>\n",
       "      <td>99.000000</td>\n",
       "      <td>846.000000</td>\n",
       "      <td>67.100000</td>\n",
       "      <td>2.420000</td>\n",
       "      <td>81.000000</td>\n",
       "      <td>1.000000</td>\n",
       "    </tr>\n",
       "  </tbody>\n",
       "</table>\n",
       "</div>"
      ],
      "text/plain": [
       "       Pregnancies     Glucose  BloodPressure  SkinThickness     Insulin  \\\n",
       "count   768.000000  768.000000     768.000000     768.000000  768.000000   \n",
       "mean      3.845052  121.677083      72.389323      29.089844  141.753906   \n",
       "std       3.369578   30.464161      12.106039       8.890820   89.100847   \n",
       "min       0.000000   44.000000      24.000000       7.000000   14.000000   \n",
       "25%       1.000000   99.750000      64.000000      25.000000  102.500000   \n",
       "50%       3.000000  117.000000      72.000000      28.000000  102.500000   \n",
       "75%       6.000000  140.250000      80.000000      32.000000  169.500000   \n",
       "max      17.000000  199.000000     122.000000      99.000000  846.000000   \n",
       "\n",
       "              BMI  DiabetesPedigreeFunction         Age     Outcome  \n",
       "count  768.000000                768.000000  768.000000  768.000000  \n",
       "mean    32.434635                  0.471876   33.240885    0.348958  \n",
       "std      6.880498                  0.331329   11.760232    0.476951  \n",
       "min     18.200000                  0.078000   21.000000    0.000000  \n",
       "25%     27.500000                  0.243750   24.000000    0.000000  \n",
       "50%     32.050000                  0.372500   29.000000    0.000000  \n",
       "75%     36.600000                  0.626250   41.000000    1.000000  \n",
       "max     67.100000                  2.420000   81.000000    1.000000  "
      ]
     },
     "execution_count": 31,
     "metadata": {},
     "output_type": "execute_result"
    }
   ],
   "source": [
    "diabetes.describe()"
   ]
  },
  {
   "cell_type": "code",
   "execution_count": 32,
   "metadata": {},
   "outputs": [
    {
     "data": {
      "text/html": [
       "<div>\n",
       "<style scoped>\n",
       "    .dataframe tbody tr th:only-of-type {\n",
       "        vertical-align: middle;\n",
       "    }\n",
       "\n",
       "    .dataframe tbody tr th {\n",
       "        vertical-align: top;\n",
       "    }\n",
       "\n",
       "    .dataframe thead th {\n",
       "        text-align: right;\n",
       "    }\n",
       "</style>\n",
       "<table border=\"1\" class=\"dataframe\">\n",
       "  <thead>\n",
       "    <tr style=\"text-align: right;\">\n",
       "      <th></th>\n",
       "      <th>Pregnancies</th>\n",
       "      <th>Glucose</th>\n",
       "      <th>BloodPressure</th>\n",
       "      <th>SkinThickness</th>\n",
       "      <th>Insulin</th>\n",
       "      <th>BMI</th>\n",
       "      <th>DiabetesPedigreeFunction</th>\n",
       "      <th>Age</th>\n",
       "      <th>Outcome</th>\n",
       "    </tr>\n",
       "  </thead>\n",
       "  <tbody>\n",
       "    <tr>\n",
       "      <th>0</th>\n",
       "      <td>6</td>\n",
       "      <td>148</td>\n",
       "      <td>72.0</td>\n",
       "      <td>35</td>\n",
       "      <td>169.5</td>\n",
       "      <td>33.6</td>\n",
       "      <td>0.627</td>\n",
       "      <td>50</td>\n",
       "      <td>1</td>\n",
       "    </tr>\n",
       "    <tr>\n",
       "      <th>1</th>\n",
       "      <td>1</td>\n",
       "      <td>85</td>\n",
       "      <td>66.0</td>\n",
       "      <td>29</td>\n",
       "      <td>102.5</td>\n",
       "      <td>26.6</td>\n",
       "      <td>0.351</td>\n",
       "      <td>31</td>\n",
       "      <td>0</td>\n",
       "    </tr>\n",
       "    <tr>\n",
       "      <th>2</th>\n",
       "      <td>8</td>\n",
       "      <td>183</td>\n",
       "      <td>64.0</td>\n",
       "      <td>32</td>\n",
       "      <td>169.5</td>\n",
       "      <td>23.3</td>\n",
       "      <td>0.672</td>\n",
       "      <td>32</td>\n",
       "      <td>1</td>\n",
       "    </tr>\n",
       "    <tr>\n",
       "      <th>3</th>\n",
       "      <td>1</td>\n",
       "      <td>89</td>\n",
       "      <td>66.0</td>\n",
       "      <td>23</td>\n",
       "      <td>94.0</td>\n",
       "      <td>28.1</td>\n",
       "      <td>0.167</td>\n",
       "      <td>21</td>\n",
       "      <td>0</td>\n",
       "    </tr>\n",
       "    <tr>\n",
       "      <th>4</th>\n",
       "      <td>0</td>\n",
       "      <td>137</td>\n",
       "      <td>40.0</td>\n",
       "      <td>35</td>\n",
       "      <td>168.0</td>\n",
       "      <td>43.1</td>\n",
       "      <td>2.288</td>\n",
       "      <td>33</td>\n",
       "      <td>1</td>\n",
       "    </tr>\n",
       "  </tbody>\n",
       "</table>\n",
       "</div>"
      ],
      "text/plain": [
       "   Pregnancies  Glucose  BloodPressure  SkinThickness  Insulin   BMI  \\\n",
       "0            6      148           72.0             35    169.5  33.6   \n",
       "1            1       85           66.0             29    102.5  26.6   \n",
       "2            8      183           64.0             32    169.5  23.3   \n",
       "3            1       89           66.0             23     94.0  28.1   \n",
       "4            0      137           40.0             35    168.0  43.1   \n",
       "\n",
       "   DiabetesPedigreeFunction  Age  Outcome  \n",
       "0                     0.627   50        1  \n",
       "1                     0.351   31        0  \n",
       "2                     0.672   32        1  \n",
       "3                     0.167   21        0  \n",
       "4                     2.288   33        1  "
      ]
     },
     "execution_count": 32,
     "metadata": {},
     "output_type": "execute_result"
    }
   ],
   "source": [
    "diabetes.head()"
   ]
  },
  {
   "cell_type": "code",
   "execution_count": 33,
   "metadata": {},
   "outputs": [
    {
     "data": {
      "image/png": "[encoded data removed]",
      "text/plain": [
       "<Figure size 1440x1080 with 9 Axes>"
      ]
     },
     "metadata": {
      "needs_background": "light"
     },
     "output_type": "display_data"
    }
   ],
   "source": [
    "%matplotlib inline\n",
    "import matplotlib.pyplot as plt\n",
    "diabetes.hist(bins=50,figsize=(20,15))#bins is used for the width of histogram line\n",
    "plt.show()"
   ]
  },
  {
   "cell_type": "code",
   "execution_count": 34,
   "metadata": {},
   "outputs": [
    {
     "data": {
      "text/html": [
       "<div>\n",
       "<style scoped>\n",
       "    .dataframe tbody tr th:only-of-type {\n",
       "        vertical-align: middle;\n",
       "    }\n",
       "\n",
       "    .dataframe tbody tr th {\n",
       "        vertical-align: top;\n",
       "    }\n",
       "\n",
       "    .dataframe thead th {\n",
       "        text-align: right;\n",
       "    }\n",
       "</style>\n",
       "<table border=\"1\" class=\"dataframe\">\n",
       "  <thead>\n",
       "    <tr style=\"text-align: right;\">\n",
       "      <th></th>\n",
       "      <th>Pregnancies</th>\n",
       "      <th>Glucose</th>\n",
       "      <th>BloodPressure</th>\n",
       "      <th>SkinThickness</th>\n",
       "      <th>Insulin</th>\n",
       "      <th>BMI</th>\n",
       "      <th>DiabetesPedigreeFunction</th>\n",
       "      <th>Age</th>\n",
       "      <th>Outcome</th>\n",
       "    </tr>\n",
       "  </thead>\n",
       "  <tbody>\n",
       "    <tr>\n",
       "      <th>Pregnancies</th>\n",
       "      <td>1.000000</td>\n",
       "      <td>0.130155</td>\n",
       "      <td>0.209151</td>\n",
       "      <td>0.089028</td>\n",
       "      <td>0.058767</td>\n",
       "      <td>0.023890</td>\n",
       "      <td>-0.033523</td>\n",
       "      <td>0.544341</td>\n",
       "      <td>0.221898</td>\n",
       "    </tr>\n",
       "    <tr>\n",
       "      <th>Glucose</th>\n",
       "      <td>0.130155</td>\n",
       "      <td>1.000000</td>\n",
       "      <td>0.225141</td>\n",
       "      <td>0.229289</td>\n",
       "      <td>0.490015</td>\n",
       "      <td>0.236171</td>\n",
       "      <td>0.138353</td>\n",
       "      <td>0.268910</td>\n",
       "      <td>0.495990</td>\n",
       "    </tr>\n",
       "    <tr>\n",
       "      <th>BloodPressure</th>\n",
       "      <td>0.209151</td>\n",
       "      <td>0.225141</td>\n",
       "      <td>1.000000</td>\n",
       "      <td>0.199349</td>\n",
       "      <td>0.070128</td>\n",
       "      <td>0.286399</td>\n",
       "      <td>-0.001443</td>\n",
       "      <td>0.325135</td>\n",
       "      <td>0.174469</td>\n",
       "    </tr>\n",
       "    <tr>\n",
       "      <th>SkinThickness</th>\n",
       "      <td>0.089028</td>\n",
       "      <td>0.229289</td>\n",
       "      <td>0.199349</td>\n",
       "      <td>1.000000</td>\n",
       "      <td>0.200129</td>\n",
       "      <td>0.566086</td>\n",
       "      <td>0.106280</td>\n",
       "      <td>0.129537</td>\n",
       "      <td>0.295138</td>\n",
       "    </tr>\n",
       "    <tr>\n",
       "      <th>Insulin</th>\n",
       "      <td>0.058767</td>\n",
       "      <td>0.490015</td>\n",
       "      <td>0.070128</td>\n",
       "      <td>0.200129</td>\n",
       "      <td>1.000000</td>\n",
       "      <td>0.238443</td>\n",
       "      <td>0.146878</td>\n",
       "      <td>0.123629</td>\n",
       "      <td>0.377081</td>\n",
       "    </tr>\n",
       "    <tr>\n",
       "      <th>BMI</th>\n",
       "      <td>0.023890</td>\n",
       "      <td>0.236171</td>\n",
       "      <td>0.286399</td>\n",
       "      <td>0.566086</td>\n",
       "      <td>0.238443</td>\n",
       "      <td>1.000000</td>\n",
       "      <td>0.152771</td>\n",
       "      <td>0.027849</td>\n",
       "      <td>0.315577</td>\n",
       "    </tr>\n",
       "    <tr>\n",
       "      <th>DiabetesPedigreeFunction</th>\n",
       "      <td>-0.033523</td>\n",
       "      <td>0.138353</td>\n",
       "      <td>-0.001443</td>\n",
       "      <td>0.106280</td>\n",
       "      <td>0.146878</td>\n",
       "      <td>0.152771</td>\n",
       "      <td>1.000000</td>\n",
       "      <td>0.033561</td>\n",
       "      <td>0.173844</td>\n",
       "    </tr>\n",
       "    <tr>\n",
       "      <th>Age</th>\n",
       "      <td>0.544341</td>\n",
       "      <td>0.268910</td>\n",
       "      <td>0.325135</td>\n",
       "      <td>0.129537</td>\n",
       "      <td>0.123629</td>\n",
       "      <td>0.027849</td>\n",
       "      <td>0.033561</td>\n",
       "      <td>1.000000</td>\n",
       "      <td>0.238356</td>\n",
       "    </tr>\n",
       "    <tr>\n",
       "      <th>Outcome</th>\n",
       "      <td>0.221898</td>\n",
       "      <td>0.495990</td>\n",
       "      <td>0.174469</td>\n",
       "      <td>0.295138</td>\n",
       "      <td>0.377081</td>\n",
       "      <td>0.315577</td>\n",
       "      <td>0.173844</td>\n",
       "      <td>0.238356</td>\n",
       "      <td>1.000000</td>\n",
       "    </tr>\n",
       "  </tbody>\n",
       "</table>\n",
       "</div>"
      ],
      "text/plain": [
       "                          Pregnancies   Glucose  BloodPressure  SkinThickness  \\\n",
       "Pregnancies                  1.000000  0.130155       0.209151       0.089028   \n",
       "Glucose                      0.130155  1.000000       0.225141       0.229289   \n",
       "BloodPressure                0.209151  0.225141       1.000000       0.199349   \n",
       "SkinThickness                0.089028  0.229289       0.199349       1.000000   \n",
       "Insulin                      0.058767  0.490015       0.070128       0.200129   \n",
       "BMI                          0.023890  0.236171       0.286399       0.566086   \n",
       "DiabetesPedigreeFunction    -0.033523  0.138353      -0.001443       0.106280   \n",
       "Age                          0.544341  0.268910       0.325135       0.129537   \n",
       "Outcome                      0.221898  0.495990       0.174469       0.295138   \n",
       "\n",
       "                           Insulin       BMI  DiabetesPedigreeFunction  \\\n",
       "Pregnancies               0.058767  0.023890                 -0.033523   \n",
       "Glucose                   0.490015  0.236171                  0.138353   \n",
       "BloodPressure             0.070128  0.286399                 -0.001443   \n",
       "SkinThickness             0.200129  0.566086                  0.106280   \n",
       "Insulin                   1.000000  0.238443                  0.146878   \n",
       "BMI                       0.238443  1.000000                  0.152771   \n",
       "DiabetesPedigreeFunction  0.146878  0.152771                  1.000000   \n",
       "Age                       0.123629  0.027849                  0.033561   \n",
       "Outcome                   0.377081  0.315577                  0.173844   \n",
       "\n",
       "                               Age   Outcome  \n",
       "Pregnancies               0.544341  0.221898  \n",
       "Glucose                   0.268910  0.495990  \n",
       "BloodPressure             0.325135  0.174469  \n",
       "SkinThickness             0.129537  0.295138  \n",
       "Insulin                   0.123629  0.377081  \n",
       "BMI                       0.027849  0.315577  \n",
       "DiabetesPedigreeFunction  0.033561  0.173844  \n",
       "Age                       1.000000  0.238356  \n",
       "Outcome                   0.238356  1.000000  "
      ]
     },
     "execution_count": 34,
     "metadata": {},
     "output_type": "execute_result"
    }
   ],
   "source": [
    "diabetes.corr()"
   ]
  },
  {
   "cell_type": "code",
   "execution_count": 35,
   "metadata": {},
   "outputs": [],
   "source": [
    "diabetes=diabetes.drop('Pregnancies',axis=1)\n",
    "diabetes=diabetes.drop('SkinThickness',axis=1)"
   ]
  },
  {
   "cell_type": "code",
   "execution_count": 36,
   "metadata": {},
   "outputs": [
    {
     "name": "stdout",
     "output_type": "stream",
     "text": [
      "4\n",
      "8\n"
     ]
    }
   ],
   "source": [
    "print(diabetes[diabetes.BloodPressure<40].shape[0])\n",
    "print(diabetes[diabetes.Insulin<25].shape[0])"
   ]
  },
  {
   "cell_type": "code",
   "execution_count": 37,
   "metadata": {},
   "outputs": [],
   "source": [
    "diabetes=diabetes[diabetes.BloodPressure>40]\n",
    "diabetes=diabetes[diabetes.Insulin>25]"
   ]
  },
  {
   "cell_type": "code",
   "execution_count": 38,
   "metadata": {},
   "outputs": [
    {
     "name": "stdout",
     "output_type": "stream",
     "text": [
      "<class 'pandas.core.frame.DataFrame'>\n",
      "Int64Index: 755 entries, 0 to 767\n",
      "Data columns (total 7 columns):\n",
      " #   Column                    Non-Null Count  Dtype  \n",
      "---  ------                    --------------  -----  \n",
      " 0   Glucose                   755 non-null    int64  \n",
      " 1   BloodPressure             755 non-null    float64\n",
      " 2   Insulin                   755 non-null    float64\n",
      " 3   BMI                       755 non-null    float64\n",
      " 4   DiabetesPedigreeFunction  755 non-null    float64\n",
      " 5   Age                       755 non-null    int64  \n",
      " 6   Outcome                   755 non-null    int64  \n",
      "dtypes: float64(4), int64(3)\n",
      "memory usage: 47.2 KB\n"
     ]
    }
   ],
   "source": [
    "diabetes.info()"
   ]
  },
  {
   "cell_type": "code",
   "execution_count": 39,
   "metadata": {},
   "outputs": [
    {
     "data": {
      "text/plain": [
       "DiabetesPedigreeFunction    0.159757\n",
       "BloodPressure               0.180105\n",
       "Age                         0.237790\n",
       "BMI                         0.306476\n",
       "Insulin                     0.375708\n",
       "Glucose                     0.493894\n",
       "Outcome                     1.000000\n",
       "Name: Outcome, dtype: float64"
      ]
     },
     "execution_count": 39,
     "metadata": {},
     "output_type": "execute_result"
    }
   ],
   "source": [
    "corr_mat=diabetes.corr()\n",
    "corr_mat.Outcome.sort_values(ascending=True)"
   ]
  },
  {
   "cell_type": "markdown",
   "metadata": {},
   "source": [
    "# Normalizing the data"
   ]
  },
  {
   "cell_type": "code",
   "execution_count": 40,
   "metadata": {},
   "outputs": [],
   "source": [
    "from sklearn import preprocessing\n",
    "scaler = preprocessing.MinMaxScaler()\n",
    "names = diabetes.columns\n",
    "d = scaler.fit_transform(diabetes)\n",
    "scaled_diabetes = pd.DataFrame(d, columns=names)"
   ]
  },
  {
   "cell_type": "code",
   "execution_count": 41,
   "metadata": {},
   "outputs": [
    {
     "data": {
      "text/html": [
       "<div>\n",
       "<style scoped>\n",
       "    .dataframe tbody tr th:only-of-type {\n",
       "        vertical-align: middle;\n",
       "    }\n",
       "\n",
       "    .dataframe tbody tr th {\n",
       "        vertical-align: top;\n",
       "    }\n",
       "\n",
       "    .dataframe thead th {\n",
       "        text-align: right;\n",
       "    }\n",
       "</style>\n",
       "<table border=\"1\" class=\"dataframe\">\n",
       "  <thead>\n",
       "    <tr style=\"text-align: right;\">\n",
       "      <th></th>\n",
       "      <th>Glucose</th>\n",
       "      <th>BloodPressure</th>\n",
       "      <th>Insulin</th>\n",
       "      <th>BMI</th>\n",
       "      <th>DiabetesPedigreeFunction</th>\n",
       "      <th>Age</th>\n",
       "      <th>Outcome</th>\n",
       "    </tr>\n",
       "  </thead>\n",
       "  <tbody>\n",
       "    <tr>\n",
       "      <th>0</th>\n",
       "      <td>0.670968</td>\n",
       "      <td>0.358974</td>\n",
       "      <td>0.171971</td>\n",
       "      <td>0.314928</td>\n",
       "      <td>0.243892</td>\n",
       "      <td>0.483333</td>\n",
       "      <td>1.0</td>\n",
       "    </tr>\n",
       "    <tr>\n",
       "      <th>1</th>\n",
       "      <td>0.264516</td>\n",
       "      <td>0.282051</td>\n",
       "      <td>0.089963</td>\n",
       "      <td>0.171779</td>\n",
       "      <td>0.121279</td>\n",
       "      <td>0.166667</td>\n",
       "      <td>0.0</td>\n",
       "    </tr>\n",
       "    <tr>\n",
       "      <th>2</th>\n",
       "      <td>0.896774</td>\n",
       "      <td>0.256410</td>\n",
       "      <td>0.171971</td>\n",
       "      <td>0.104294</td>\n",
       "      <td>0.263883</td>\n",
       "      <td>0.183333</td>\n",
       "      <td>1.0</td>\n",
       "    </tr>\n",
       "    <tr>\n",
       "      <th>3</th>\n",
       "      <td>0.290323</td>\n",
       "      <td>0.282051</td>\n",
       "      <td>0.079559</td>\n",
       "      <td>0.202454</td>\n",
       "      <td>0.039538</td>\n",
       "      <td>0.000000</td>\n",
       "      <td>0.0</td>\n",
       "    </tr>\n",
       "    <tr>\n",
       "      <th>4</th>\n",
       "      <td>0.464516</td>\n",
       "      <td>0.384615</td>\n",
       "      <td>0.089963</td>\n",
       "      <td>0.151329</td>\n",
       "      <td>0.054642</td>\n",
       "      <td>0.150000</td>\n",
       "      <td>0.0</td>\n",
       "    </tr>\n",
       "  </tbody>\n",
       "</table>\n",
       "</div>"
      ],
      "text/plain": [
       "    Glucose  BloodPressure   Insulin       BMI  DiabetesPedigreeFunction  \\\n",
       "0  0.670968       0.358974  0.171971  0.314928                  0.243892   \n",
       "1  0.264516       0.282051  0.089963  0.171779                  0.121279   \n",
       "2  0.896774       0.256410  0.171971  0.104294                  0.263883   \n",
       "3  0.290323       0.282051  0.079559  0.202454                  0.039538   \n",
       "4  0.464516       0.384615  0.089963  0.151329                  0.054642   \n",
       "\n",
       "        Age  Outcome  \n",
       "0  0.483333      1.0  \n",
       "1  0.166667      0.0  \n",
       "2  0.183333      1.0  \n",
       "3  0.000000      0.0  \n",
       "4  0.150000      0.0  "
      ]
     },
     "execution_count": 41,
     "metadata": {},
     "output_type": "execute_result"
    }
   ],
   "source": [
    "scaled_diabetes.head()"
   ]
  },
  {
   "cell_type": "code",
   "execution_count": 42,
   "metadata": {},
   "outputs": [],
   "source": [
    "def split_train_test(data,test_ratio):\n",
    "    shuffled_indices=np.random.permutation(len(data))#randomly permute a sequence or return a permuted range\n",
    "    test_set_size=int(len(data)*test_ratio)\n",
    "    test_indices=shuffled_indices[:test_set_size]\n",
    "    train_indices=shuffled_indices[test_set_size:]\n",
    "    return data.iloc[train_indices],data.iloc[test_indices]"
   ]
  },
  {
   "cell_type": "code",
   "execution_count": 43,
   "metadata": {},
   "outputs": [],
   "source": [
    "diabetes_train_set,diabetes_test_set=split_train_test(scaled_diabetes,0.2)"
   ]
  },
  {
   "cell_type": "code",
   "execution_count": 44,
   "metadata": {},
   "outputs": [
    {
     "data": {
      "text/plain": [
       "604"
      ]
     },
     "execution_count": 44,
     "metadata": {},
     "output_type": "execute_result"
    }
   ],
   "source": [
    "len(diabetes_train_set)"
   ]
  },
  {
   "cell_type": "code",
   "execution_count": 45,
   "metadata": {},
   "outputs": [
    {
     "data": {
      "text/plain": [
       "151"
      ]
     },
     "execution_count": 45,
     "metadata": {},
     "output_type": "execute_result"
    }
   ],
   "source": [
    "len(diabetes_test_set)"
   ]
  },
  {
   "cell_type": "code",
   "execution_count": 46,
   "metadata": {},
   "outputs": [],
   "source": [
    "from sklearn.metrics import accuracy_score,precision_score, recall_score,f1_score,confusion_matrix"
   ]
  },
  {
   "cell_type": "code",
   "execution_count": 47,
   "metadata": {},
   "outputs": [],
   "source": [
    "def compute_cost(W, X, Y, regularization_strength):\n",
    "    # calculate hinge loss\n",
    "    N = X.shape[0]\n",
    "    distances = 1 - Y * (np.dot(X, W))\n",
    "    distances[distances < 0] = 0  # equivalent to max(0, distance)\n",
    "    hinge_loss = regularization_strength * (np.sum(distances) / N)\n",
    "\n",
    "    # calculate cost\n",
    "    cost = 1 / 2 * np.dot(W, W) + hinge_loss\n",
    "    return cost\n",
    "\n",
    "\n",
    "# I haven't tested it but this same function should work for\n",
    "# vanilla and mini-batch gradient descent as well\n",
    "def calculate_cost_gradient(W, X_batch, Y_batch, regularization_strength):\n",
    "    # if only one example is passed (eg. in case of SGD)\n",
    "    if type(Y_batch) == np.float64:\n",
    "        Y_batch = np.array([Y_batch])\n",
    "        X_batch = np.array([X_batch])  # gives multidimensional array\n",
    "\n",
    "    distance = 1 - (Y_batch * np.dot(X_batch, W))\n",
    "    dw = np.zeros(len(W))\n",
    "\n",
    "    for ind, d in enumerate(distance):\n",
    "        if max(0, d) == 0:\n",
    "            di = W\n",
    "        else:\n",
    "            di = W - (regularization_strength * Y_batch[ind] * X_batch[ind])\n",
    "        dw += di\n",
    "\n",
    "    dw = dw/len(Y_batch)  # average\n",
    "    return dw\n",
    "\n",
    "\n",
    "def sgd(features, outputs, learning_rate, regularization_strength):\n",
    "    max_epochs = 5000\n",
    "    weights = np.zeros(features.shape[1])\n",
    "    nth = 0\n",
    "    prev_cost = float(\"inf\")\n",
    "    cost_threshold = 0.01  # in percent\n",
    "    # stochastic gradient descent\n",
    "    for epoch in range(1, max_epochs):\n",
    "        # shuffle to prevent repeating update cycles\n",
    "        X, Y = shuffle(features, outputs)\n",
    "        for ind, x in enumerate(X):\n",
    "            ascent = calculate_cost_gradient(weights, x, Y[ind], regularization_strength)\n",
    "            weights = weights - (learning_rate * ascent)\n",
    "\n",
    "        # convergence check on 2^nth epoch\n",
    "        if epoch == 2 ** nth+1 or epoch == max_epochs - 1:\n",
    "            cost = compute_cost(weights, features, outputs, regularization_strength)\n",
    "            print(\"Epoch is: {} and Cost is: {}\".format(epoch, cost))\n",
    "            # stoppage criterion\n",
    "            if abs(prev_cost - cost) < cost_threshold * prev_cost:\n",
    "                return weights\n",
    "            prev_cost = cost\n",
    "            nth += 1\n",
    "    return weights"
   ]
  },
  {
   "cell_type": "code",
   "execution_count": 48,
   "metadata": {},
   "outputs": [],
   "source": [
    "diabetes_train_set1=diabetes_train_set.drop(\"Outcome\",axis=1)\n",
    "diabetes_train_set_labels=diabetes_train_set.Outcome.copy()\n",
    "diabetes_test_set1=diabetes_test_set.drop(\"Outcome\",axis=1)\n",
    "diabetes_test_set_labels=list(diabetes_test_set.Outcome.copy())\n",
    "diabetes_test_set1.insert(loc=len(diabetes_test_set1.columns), column='intercept', value=1)\n",
    "diabetes_train_set1.insert(loc=len(diabetes_train_set1.columns), column='intercept', value=1)"
   ]
  },
  {
   "cell_type": "code",
   "execution_count": 49,
   "metadata": {},
   "outputs": [
    {
     "name": "stdout",
     "output_type": "stream",
     "text": [
      "Epoch is: 2 and Cost is: 6424.749914903958\n",
      "Epoch is: 3 and Cost is: 6424.64649247025\n"
     ]
    }
   ],
   "source": [
    "W = sgd(diabetes_train_set1.to_numpy(),diabetes_train_set_labels.to_numpy(),0.0001,10000)\n",
    "y_train_predicted = np.array([])\n",
    "for i in range(diabetes_test_set1.shape[0]):\n",
    "       if np.dot(diabetes_test_set1.to_numpy()[i], W)<1.5:\n",
    "              y_train_predicted = np.append(y_train_predicted, 0)\n",
    "       else:\n",
    "              y_train_predicted = np.append(y_train_predicted, 1)\n"
   ]
  },
  {
   "cell_type": "code",
   "execution_count": 51,
   "metadata": {},
   "outputs": [
    {
     "name": "stdout",
     "output_type": "stream",
     "text": [
      "[[81 14]\n",
      " [21 35]]\n",
      "0.7682119205298014\n",
      "0.7142857142857143\n",
      "0.625\n",
      "0.6666666666666666\n"
     ]
    }
   ],
   "source": [
    "\n",
    "print(confusion_matrix(y_train_predicted,diabetes_test_set_labels))\n",
    "print(accuracy_score(y_train_predicted,diabetes_test_set_labels))\n",
    "print(precision_score(y_train_predicted,diabetes_test_set_labels))\n",
    "print(recall_score(y_train_predicted,diabetes_test_set_labels))\n",
    "print(f1_score(y_train_predicted,diabetes_test_set_labels))"
   ]
  },
  {
   "cell_type": "code",
   "execution_count": 61,
   "metadata": {},
   "outputs": [],
   "source": [
    "filename=\"diabetes.pkl\"\n",
    "pickle.dump(W,open(filename,'wb'))"
   ]
  },
  {
   "cell_type": "code",
   "execution_count": null,
   "metadata": {},
   "outputs": [],
   "source": []
  }
 ],
 "metadata": {
  "interpreter": {
   "hash": "d149924f7685e4d04fa13458417a0834f0575ce8a1f54229fc751316c57ce2a6"
  },
  "kernelspec": {
   "display_name": "Python 3.9.6 64-bit",
   "name": "python3"
  },
  "language_info": {
   "codemirror_mode": {
    "name": "ipython",
    "version": 3
   },
   "file_extension": ".py",
   "mimetype": "text/x-python",
   "name": "python",
   "nbconvert_exporter": "python",
   "pygments_lexer": "ipython3",
   "version": "3.9.6"
  }
 },
 "nbformat": 4,
 "nbformat_minor": 4
}
